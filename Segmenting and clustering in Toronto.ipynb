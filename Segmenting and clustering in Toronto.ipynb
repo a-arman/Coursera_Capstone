{
    "nbformat_minor": 1, 
    "cells": [
        {
            "source": "### Reading the data from the url", 
            "cell_type": "markdown", 
            "metadata": {}
        }, 
        {
            "execution_count": 3, 
            "cell_type": "code", 
            "metadata": {}, 
            "outputs": [], 
            "source": "import pandas as pd\ntables  = pd.read_html(\"https://en.wikipedia.org/wiki/List_of_postal_codes_of_Canada:_M\",header=0)"
        }, 
        {
            "source": "### removing rows with a borough that is Not assigned", 
            "cell_type": "markdown", 
            "metadata": {}
        }, 
        {
            "execution_count": 5, 
            "cell_type": "code", 
            "metadata": {}, 
            "outputs": [], 
            "source": "toronto_neighborhoods_temp = tables[0]\ntoronto_neighborhoods = toronto_neighborhoods_temp[toronto_neighborhoods_temp.Borough != 'Not assigned']"
        }, 
        {
            "source": "### Not assigned neighborhood, then the neighborhood will be the same as the borough", 
            "cell_type": "markdown", 
            "metadata": {}
        }, 
        {
            "execution_count": 6, 
            "cell_type": "code", 
            "metadata": {}, 
            "outputs": [
                {
                    "output_type": "stream", 
                    "name": "stderr", 
                    "text": "/opt/conda/envs/Python36/lib/python3.6/site-packages/ipykernel/__main__.py:2: SettingWithCopyWarning: \nA value is trying to be set on a copy of a slice from a DataFrame.\nTry using .loc[row_indexer,col_indexer] = value instead\n\nSee the caveats in the documentation: http://pandas.pydata.org/pandas-docs/stable/indexing.html#indexing-view-versus-copy\n  from ipykernel import kernelapp as app\n"
                }
            ], 
            "source": "import numpy as np\ntoronto_neighborhoods['Neighbourhood'] = np.where(toronto_neighborhoods['Neighbourhood'] == 'Not assigned', toronto_neighborhoods['Borough'], toronto_neighborhoods['Neighbourhood'])\ntoronto_neighborhoods.Neighbourhood[toronto_neighborhoods.Neighbourhood == 'Not assigned'] = toronto_neighborhoods.Borough\ngb = toronto_neighborhoods.groupby(['Postcode'])\ntoronto_neighborhoods['Neighbourhood'] = toronto_neighborhoods['Postcode'].apply(lambda x: toronto_neighborhoods.loc[gb.groups[x],('Neighbourhood')].str.cat(sep=',') )\ntoronto_neighborhoods.drop_duplicates(inplace=True)\ntoronto_neighborhoods.reset_index(drop=True)"
        }, 
        {
            "execution_count": 16, 
            "cell_type": "code", 
            "metadata": {}, 
            "outputs": [
                {
                    "execution_count": 16, 
                    "metadata": {}, 
                    "data": {
                        "text/plain": "(103, 3)"
                    }, 
                    "output_type": "execute_result"
                }
            ], 
            "source": "toronto_neighborhoods.shape"
        }, 
        {
            "source": "### ", 
            "cell_type": "markdown", 
            "metadata": {}
        }, 
        {
            "execution_count": null, 
            "cell_type": "code", 
            "metadata": {}, 
            "outputs": [], 
            "source": ""
        }
    ], 
    "metadata": {
        "kernelspec": {
            "display_name": "Python 3.6", 
            "name": "python3", 
            "language": "python"
        }, 
        "language_info": {
            "mimetype": "text/x-python", 
            "nbconvert_exporter": "python", 
            "version": "3.6.8", 
            "name": "python", 
            "file_extension": ".py", 
            "pygments_lexer": "ipython3", 
            "codemirror_mode": {
                "version": 3, 
                "name": "ipython"
            }
        }
    }, 
    "nbformat": 4
}